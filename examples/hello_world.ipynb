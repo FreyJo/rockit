{
 "cells": [
  {
   "cell_type": "markdown",
   "metadata": {},
   "source": [
    "# Rockit"
   ]
  },
  {
   "cell_type": "markdown",
   "metadata": {},
   "source": [
    "[Rockit](https://gitlab.mech.kuleuven.be/meco-software/rockit) (Rapid Optimal Control kit) is a software framework to quickly prototype optimal control problems (aka dynamic optimization) that may arise in engineering:\n",
    "iterative learning (ILC), model predictive control (NMPC), motion planning.\n",
    "\n",
    "Notably, the software allows free end-time problems and multi-stage optimal problems.\n",
    "The software is currently focused on direct methods and relieas eavily on [CasADi](http://casadi.org)."
   ]
  },
  {
   "cell_type": "markdown",
   "metadata": {},
   "source": [
    "## Hello World"
   ]
  },
  {
   "cell_type": "markdown",
   "metadata": {},
   "source": [
    "(Taken from the [example directory](https://gitlab.mech.kuleuven.be/meco-software/rockit/blob/master/examples/hello_world.py))"
   ]
  },
  {
   "cell_type": "markdown",
   "metadata": {},
   "source": [
    "To run, click in the _code cell_ below, and hit Shift+Enter. You may need to do 'Kernel->Restart' if you paused a while..."
   ]
  },
  {
   "cell_type": "markdown",
   "metadata": {},
   "source": [
    "Import the project:"
   ]
  },
  {
   "cell_type": "code",
   "execution_count": 1,
   "metadata": {},
   "outputs": [],
   "source": [
    "from rockit import *"
   ]
  },
  {
   "cell_type": "markdown",
   "metadata": {},
   "source": [
    "Start an optimal control environment with a time horizon of 10 seconds (free time problems can be configured with `FreeTime(initial_guess)`)."
   ]
  },
  {
   "cell_type": "code",
   "execution_count": 2,
   "metadata": {},
   "outputs": [],
   "source": [
    "ocp = Ocp(T=10)"
   ]
  },
  {
   "cell_type": "markdown",
   "metadata": {},
   "source": [
    "Define two scalar states (vectors and matrices also supported):"
   ]
  },
  {
   "cell_type": "code",
   "execution_count": 3,
   "metadata": {},
   "outputs": [],
   "source": [
    "x1 = ocp.state()\n",
    "x2 = ocp.state()"
   ]
  },
  {
   "cell_type": "markdown",
   "metadata": {},
   "source": [
    "Define one piece-wise constant control input (use `order=1` for piecewise linear):"
   ]
  },
  {
   "cell_type": "code",
   "execution_count": 4,
   "metadata": {},
   "outputs": [],
   "source": [
    "u = ocp.control()"
   ]
  },
  {
   "cell_type": "markdown",
   "metadata": {},
   "source": [
    "Specify differential equations for states (time dependency supported with `ocp.t`, DAEs also supported with `ocp.algebraic` and `add_alg`):"
   ]
  },
  {
   "cell_type": "code",
   "execution_count": 5,
   "metadata": {},
   "outputs": [],
   "source": [
    "ocp.set_der(x1, (1 - x2**2) * x1 - x2 + u)\n",
    "ocp.set_der(x2, x1)"
   ]
  },
  {
   "cell_type": "markdown",
   "metadata": {},
   "source": [
    "Lagrange objective (Mayer term supported with `ocp.at_tf(expression)`):"
   ]
  },
  {
   "cell_type": "code",
   "execution_count": 6,
   "metadata": {},
   "outputs": [],
   "source": [
    "ocp.add_objective(ocp.integral(x1**2 + x2**2 + u**2))"
   ]
  },
  {
   "cell_type": "markdown",
   "metadata": {},
   "source": [
    "Path constraints (must be valid on the whole time domain running from `t0` to `tf=t0+T`, grid options available):"
   ]
  },
  {
   "cell_type": "code",
   "execution_count": 7,
   "metadata": {},
   "outputs": [],
   "source": [
    "ocp.subject_to(x1 >= -0.25)\n",
    "ocp.subject_to(-1 <= (u <= 1 ))"
   ]
  },
  {
   "cell_type": "markdown",
   "metadata": {},
   "source": [
    "Boundary constraints:"
   ]
  },
  {
   "cell_type": "code",
   "execution_count": 8,
   "metadata": {},
   "outputs": [],
   "source": [
    "ocp.subject_to(ocp.at_t0(x1) == 0)\n",
    "ocp.subject_to(ocp.at_t0(x2) == 1)"
   ]
  },
  {
   "cell_type": "markdown",
   "metadata": {},
   "source": [
    "Pick an NLP solver backend (CasADi `nlpsol` plugin):"
   ]
  },
  {
   "cell_type": "code",
   "execution_count": 9,
   "metadata": {},
   "outputs": [],
   "source": [
    "ocp.solver('ipopt')"
   ]
  },
  {
   "cell_type": "markdown",
   "metadata": {},
   "source": [
    "Pick a solution method:"
   ]
  },
  {
   "cell_type": "code",
   "execution_count": 10,
   "metadata": {},
   "outputs": [],
   "source": [
    "method = MultipleShooting(N=10, M=2, intg='rk')\n",
    "#method = DirectCollocation(N=20)\n",
    "ocp.method(method)"
   ]
  },
  {
   "cell_type": "markdown",
   "metadata": {},
   "source": [
    "Solve:"
   ]
  },
  {
   "cell_type": "code",
   "execution_count": 11,
   "metadata": {},
   "outputs": [
    {
     "name": "stdout",
     "output_type": "stream",
     "text": [
      "\n",
      "******************************************************************************\n",
      "This program contains Ipopt, a library for large-scale nonlinear optimization.\n",
      " Ipopt is released as open source code under the Eclipse Public License (EPL).\n",
      "         For more information visit http://projects.coin-or.org/Ipopt\n",
      "******************************************************************************\n",
      "\n",
      "This is Ipopt version 3.12.3, running with linear solver mumps.\n",
      "NOTE: Other linear solvers might be more efficient (see Ipopt documentation).\n",
      "\n",
      "Number of nonzeros in equality constraint Jacobian...:       82\n",
      "Number of nonzeros in inequality constraint Jacobian.:       22\n",
      "Number of nonzeros in Lagrangian Hessian.............:       60\n",
      "\n",
      "Total number of variables............................:       32\n",
      "                     variables with only lower bounds:        0\n",
      "                variables with lower and upper bounds:        0\n",
      "                     variables with only upper bounds:        0\n",
      "Total number of equality constraints.................:       22\n",
      "Total number of inequality constraints...............:       22\n",
      "        inequality constraints with only lower bounds:       11\n",
      "   inequality constraints with lower and upper bounds:       11\n",
      "        inequality constraints with only upper bounds:        0\n",
      "\n",
      "iter    objective    inf_pr   inf_du lg(mu)  ||d||  lg(rg) alpha_du alpha_pr  ls\n",
      "   0  0.0000000e+00 1.00e+00 4.64e-01  -1.0 0.00e+00    -  0.00e+00 0.00e+00   0\n",
      "   1  9.5283978e-01 4.98e-01 3.86e-01  -1.7 1.16e+00    -  4.62e-01 5.02e-01h  1\n",
      "   2  2.2316536e+00 2.49e-01 1.25e+00  -1.7 4.98e-01    -  7.52e-01 5.00e-01h  1\n",
      "   3  4.1657271e+00 2.41e-02 1.81e-01  -1.7 2.63e-01    -  1.00e+00 9.90e-01h  1\n",
      "   4  4.0622195e+00 1.37e-04 9.14e-02  -2.5 2.84e-02    -  8.91e-01 1.00e+00h  1\n",
      "   5  4.0570394e+00 1.02e-06 1.10e-04  -2.5 4.36e-03    -  1.00e+00 1.00e+00h  1\n",
      "   6  4.0494558e+00 3.68e-06 5.74e-05  -3.8 7.92e-03    -  1.00e+00 1.00e+00f  1\n",
      "   7  4.0487010e+00 6.23e-08 8.04e-07  -5.7 7.74e-04    -  1.00e+00 1.00e+00h  1\n",
      "   8  4.0486905e+00 1.59e-11 2.03e-10  -8.6 1.13e-05    -  1.00e+00 1.00e+00h  1\n",
      "\n",
      "Number of Iterations....: 8\n",
      "\n",
      "                                   (scaled)                 (unscaled)\n",
      "Objective...............:   4.0486904856441974e+00    4.0486904856441974e+00\n",
      "Dual infeasibility......:   2.0270621292617363e-10    2.0270621292617363e-10\n",
      "Constraint violation....:   1.5933927788314151e-11    1.5933927788314151e-11\n",
      "Complementarity.........:   3.7240539014366396e-09    3.7240539014366396e-09\n",
      "Overall NLP error.......:   3.7240539014366396e-09    3.7240539014366396e-09\n",
      "\n",
      "\n",
      "Number of objective function evaluations             = 9\n",
      "Number of objective gradient evaluations             = 9\n",
      "Number of equality constraint evaluations            = 9\n",
      "Number of inequality constraint evaluations          = 9\n",
      "Number of equality constraint Jacobian evaluations   = 9\n",
      "Number of inequality constraint Jacobian evaluations = 9\n",
      "Number of Lagrangian Hessian evaluations             = 8\n",
      "Total CPU secs in IPOPT (w/o function evaluations)   =      0.021\n",
      "Total CPU secs in NLP function evaluations           =      0.058\n",
      "\n",
      "EXIT: Optimal Solution Found.\n",
      "               t_proc [s]   t_wall [s]    n_eval\n",
      "       nlp_f      0.00159       0.0016         9\n",
      "       nlp_g      0.00189      0.00189         9\n",
      "  nlp_grad_f      0.00568      0.00568        10\n",
      "  nlp_hess_l       0.0419       0.0418         8\n",
      "   nlp_jac_g      0.00844       0.0144        10\n",
      "      solver       0.0858       0.0895         1\n"
     ]
    }
   ],
   "source": [
    "sol = ocp.solve()"
   ]
  },
  {
   "cell_type": "code",
   "execution_count": 12,
   "metadata": {},
   "outputs": [],
   "source": [
    "from pylab import *"
   ]
  },
  {
   "cell_type": "markdown",
   "metadata": {},
   "source": [
    "Show structure:"
   ]
  },
  {
   "cell_type": "code",
   "execution_count": 13,
   "metadata": {},
   "outputs": [
    {
     "data": {
      "image/png": "[encoded data removed]",
      "text/plain": [
       "<Figure size 720x288 with 2 Axes>"
      ]
     },
     "metadata": {
      "needs_background": "light"
     },
     "output_type": "display_data"
    }
   ],
   "source": [
    "ocp.spy()"
   ]
  },
  {
   "cell_type": "markdown",
   "metadata": {},
   "source": [
    "Post-processing. Sample states/control or expressions thereof on a specific grid:"
   ]
  },
  {
   "cell_type": "code",
   "execution_count": 17,
   "metadata": {
    "scrolled": true
   },
   "outputs": [
    {
     "data": {
      "image/png": "[encoded data removed]",
      "text/plain": [
       "<Figure size 720x288 with 2 Axes>"
      ]
     },
     "metadata": {
      "needs_background": "light"
     },
     "output_type": "display_data"
    }
   ],
   "source": [
    "tsa, x1a = sol.sample(x1, grid='control')\n",
    "tsa, x2a = sol.sample(x2, grid='control')\n",
    "\n",
    "tsb, x1b = sol.sample(x1, grid='integrator')\n",
    "tsb, x2b = sol.sample(x2, grid='integrator')\n",
    "\n",
    "figure(figsize=(10, 4))\n",
    "subplot(1, 2, 1)\n",
    "plot(tsb, x1b, '.-')\n",
    "plot(tsa, x1a, 'o')\n",
    "xlabel(\"Times [s]\", fontsize=14)\n",
    "grid(True)\n",
    "title('State x1')\n",
    "\n",
    "subplot(1, 2, 2)\n",
    "plot(tsb, x2b, '.-')\n",
    "plot(tsa, x2a, 'o')\n",
    "legend(['grid_integrator', 'grid_control'])\n",
    "xlabel(\"Times [s]\", fontsize=14)\n",
    "title('State x2')\n",
    "grid(True)"
   ]
  },
  {
   "cell_type": "code",
   "execution_count": 18,
   "metadata": {},
   "outputs": [
    {
     "data": {
      "image/png": "[encoded data removed]",
      "text/plain": [
       "<Figure size 432x288 with 1 Axes>"
      ]
     },
     "metadata": {
      "needs_background": "light"
     },
     "output_type": "display_data"
    }
   ],
   "source": [
    "tsol, usol = sol.sample(u, grid='integrator',refine=100)\n",
    "\n",
    "figure()\n",
    "plot(tsol,usol)\n",
    "title(\"Control signal\")\n",
    "xlabel(\"Times [s]\")\n",
    "grid(True)"
   ]
  },
  {
   "cell_type": "code",
   "execution_count": 19,
   "metadata": {},
   "outputs": [
    {
     "data": {
      "image/png": "[encoded data removed]",
      "text/plain": [
       "<Figure size 1080x288 with 1 Axes>"
      ]
     },
     "metadata": {
      "needs_background": "light"
     },
     "output_type": "display_data"
    }
   ],
   "source": [
    "tsc, x1c = sol.sample(x1, grid='integrator', refine=100)\n",
    "\n",
    "figure(figsize=(15, 4))\n",
    "plot(tsc, x1c, '-')\n",
    "plot(tsa, x1a, 'o')\n",
    "plot(tsb, x1b, '.')\n",
    "xlabel(\"Times [s]\")\n",
    "title(\"States on refined grid\")\n",
    "grid(True)"
   ]
  },
  {
   "cell_type": "code",
   "execution_count": null,
   "metadata": {},
   "outputs": [],
   "source": []
  }
 ],
 "metadata": {
  "kernelspec": {
   "display_name": "Python 3",
   "language": "python",
   "name": "python3"
  },
  "language_info": {
   "codemirror_mode": {
    "name": "ipython",
    "version": 3
   },
   "file_extension": ".py",
   "mimetype": "text/x-python",
   "name": "python",
   "nbconvert_exporter": "python",
   "pygments_lexer": "ipython3",
   "version": "3.7.3"
  }
 },
 "nbformat": 4,
 "nbformat_minor": 2
}
